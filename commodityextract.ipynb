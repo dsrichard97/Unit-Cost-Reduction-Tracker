{
 "cells": [
  {
   "cell_type": "markdown",
   "id": "42051c0d",
   "metadata": {},
   "source": [
    "## Commodity Extraction - Unit Cost Reduction Tracker 🚀 \n",
    "The goal of this code is to extract commodity prices  using the FRED global price index. Why tracking commodities? We can infer from the supply chain side the affects of raw materials and some assumptions on overhead costs. We want to have an idea of the \"WHAT IF\" scenarios as it would provide more insights on voilume and possible process improvements. A monthly dashboard will provide an insight on actual commodity prices given by FRED and target KPIs in relationship to historical data."
   ]
  },
  {
   "cell_type": "markdown",
   "id": "66fae9fa",
   "metadata": {},
   "source": [
    "## Key Objectives 🚀 \n",
    "- FORECAST MODEL: Predict future unit costs based on material, labor, and overhead inputs.\n",
    "- POSSIBLE SCENARIO ANALYSIS: Quantify the impact of volume discounts, productivity improvements, or process changes.\n",
    "- KPI DASHBOARD: Visualize actual vs. target unit cost trends, drillable by product line or business group."
   ]
  },
  {
   "cell_type": "markdown",
   "id": "cc2615bd",
   "metadata": {},
   "source": [
    "## Top Commodities Critical to Aerospace 🚀 \n",
    "\n",
    "1. **Aluminum and Aluminum Alloys**  \n",
    "   - **Use**: Rocket bodies, aircraft fuselages, structural components.  \n",
    "   - **Why**: Lightweight, strong, corrosion-resistant.\n",
    "\n",
    "2. **Titanium**  \n",
    "   - **Use**: Engine components, fasteners, and structural parts.  \n",
    "   - **Why**: High strength-to-weight ratio, excellent heat resistance.\n",
    "\n",
    "3. **Carbon Fiber Composites**  \n",
    "   - **Use**: Rocket fairings, spacecraft structures, satellite components.  \n",
    "   - **Why**: Extremely lightweight and strong, used in SpaceX’s Dragon and Starship.\n",
    "\n",
    "4. **Copper and Copper Alloys**  \n",
    "   - **Use**: Rocket engine nozzles, avionics, wiring.  \n",
    "   - **Why**: Excellent thermal and electrical conductivity.\n",
    "\n",
    "5. **Nickel and Superalloys (e.g., Inconel)**  \n",
    "   - **Use**: Rocket engines, turbine blades.  \n",
    "   - **Why**: Withstands extreme temperatures and pressures.\n",
    "\n",
    "6. **Rare Earth Elements (REEs)**  \n",
    "   - **Use**: Avionics, sensors, electric propulsion systems.  \n",
    "   - **Why**: Essential for high-performance electronics and magnets.\n",
    "\n",
    "7. **Hydrocarbons (e.g., RP-1, Methane)**  \n",
    "   - **Use**: Rocket fuel (RP-1 for Falcon 9, Methane for Starship).  \n",
    "   - **Why**: High energy density, clean combustion.\n",
    "\n",
    "8. **Silicon**  \n",
    "   - **Use**: Solar panels, semiconductors in avionics.  \n",
    "   - **Why**: Core material for electronics and energy systems.\n"
   ]
  },
  {
   "cell_type": "code",
   "execution_count": 5,
   "id": "4b6880be",
   "metadata": {},
   "outputs": [],
   "source": [
    "#pip install requests"
   ]
  },
  {
   "cell_type": "code",
   "execution_count": 14,
   "id": "e94d1bd0",
   "metadata": {},
   "outputs": [],
   "source": [
    "import pandas as pd\n",
    "from io import StringIO\n",
    "import requests"
   ]
  },
  {
   "cell_type": "code",
   "execution_count": 19,
   "id": "137fb18c",
   "metadata": {},
   "outputs": [],
   "source": [
    "def fetch_commodity_data(sources):\n",
    "    all_data = []\n",
    "    for name, url in sources.items():\n",
    "        try:\n",
    "            resp = requests.get(url)\n",
    "            resp.raise_for_status()\n",
    "        except requests.exceptions.HTTPError as e:\n",
    "            print(f\"⚠️  Skipping {name}: HTTP error {e.response.status_code} for URL {url}\")\n",
    "            continue\n",
    "        except requests.exceptions.RequestException as e:\n",
    "            print(f\"⚠️  Skipping {name}: network error ({e})\")\n",
    "            continue\n",
    "\n",
    "        df = pd.read_csv(StringIO(resp.text))\n",
    "        # Rename columns generically\n",
    "        df = df.rename(columns={df.columns[0]: 'date', df.columns[1]: 'price'})\n",
    "        df['date'] = pd.to_datetime(df['date'])\n",
    "        df['commodity'] = name\n",
    "        all_data.append(df[['date', 'price', 'commodity']])\n",
    "\n",
    "    if not all_data:\n",
    "        raise RuntimeError(\"No commodity series could be fetched.\")\n",
    "    return pd.concat(all_data, ignore_index=True)\n"
   ]
  },
  {
   "cell_type": "code",
   "execution_count": 20,
   "id": "ec93efec",
   "metadata": {},
   "outputs": [],
   "source": [
    "# 2) Define your source URLs\n",
    "commodity_sources = {\n",
    "    \"Aluminum\": \"https://fred.stlouisfed.org/graph/fredgraph.csv?id=PALUMUSDM\",\n",
    "    \"Copper\": \"https://fred.stlouisfed.org/graph/fredgraph.csv?id=PCOPPUSDM\",\n",
    "    \"Nickel\": \"https://fred.stlouisfed.org/graph/fredgraph.csv?id=PNICKUSDM\",\n",
    "    \"Crude Oil (RP-1 proxy)\": \"https://fred.stlouisfed.org/graph/fredgraph.csv?id=ACOILWTICO\",\n",
    "    \"Natural Gas (Henry Hub Spot)\": \"https://fred.stlouisfed.org/graph/fredgraph.csv?id=MHHNGSP\",        # Henry Hub Natural Gas Spot Price :contentReference[oaicite:0]{index=0}\n",
    "    \"Rare-Earth Metals Import PPI\": \"https://fred.stlouisfed.org/graph/fredgraph.csv?id=IP28\"      # Import PPI for Rare-Earth Metals :contentReference[oaicite:1]{index=1}\n",
    "}"
   ]
  },
  {
   "cell_type": "code",
   "execution_count": null,
   "id": "633b6ee2",
   "metadata": {},
   "outputs": [
    {
     "name": "stdout",
     "output_type": "stream",
     "text": [
      "Defaulting to user installation because normal site-packages is not writeable\n",
      "Collecting openpyxl\n",
      "  Downloading openpyxl-3.1.5-py2.py3-none-any.whl (250 kB)\n",
      "\u001b[K     |████████████████████████████████| 250 kB 4.0 MB/s eta 0:00:01\n",
      "\u001b[?25hCollecting et-xmlfile\n",
      "  Downloading et_xmlfile-2.0.0-py3-none-any.whl (18 kB)\n",
      "Installing collected packages: et-xmlfile, openpyxl\n",
      "Successfully installed et-xmlfile-2.0.0 openpyxl-3.1.5\n",
      "\u001b[33mWARNING: You are using pip version 21.2.4; however, version 25.1.1 is available.\n",
      "You should consider upgrading via the '/Library/Developer/CommandLineTools/usr/bin/python3 -m pip install --upgrade pip' command.\u001b[0m\n",
      "Note: you may need to restart the kernel to use updated packages.\n"
     ]
    }
   ],
   "source": [
    "#pip install openpyxl\n"
   ]
  },
  {
   "cell_type": "code",
   "execution_count": 25,
   "id": "3e0d5fab",
   "metadata": {},
   "outputs": [
    {
     "name": "stdout",
     "output_type": "stream",
     "text": [
      "        date   price commodity\n",
      "0 1990-01-01  1528.0  Aluminum\n",
      "1 1990-02-01  1454.0  Aluminum\n",
      "2 1990-03-01  1567.0  Aluminum\n",
      "3 1990-04-01  1526.0  Aluminum\n",
      "4 1990-05-01  1527.0  Aluminum\n",
      "           date  price                     commodity\n",
      "1652 2024-12-01  100.0  Rare-Earth Metals Import PPI\n",
      "1653 2025-01-01  100.2  Rare-Earth Metals Import PPI\n",
      "1654 2025-02-01   94.4  Rare-Earth Metals Import PPI\n",
      "1655 2025-03-01   96.2  Rare-Earth Metals Import PPI\n",
      "1656 2025-04-01   90.7  Rare-Earth Metals Import PPI\n"
     ]
    }
   ],
   "source": [
    "# Fetch and preview\n",
    "df = fetch_commodity_data(commodity_sources)\n",
    "print(df.head())\n",
    "print(df.tail())"
   ]
  },
  {
   "cell_type": "code",
   "execution_count": 26,
   "id": "c877deb6",
   "metadata": {},
   "outputs": [
    {
     "name": "stdout",
     "output_type": "stream",
     "text": [
      "Exported to data/processed/sample_cost_data.xlsx\n"
     ]
    }
   ],
   "source": [
    "import os\n",
    "import pandas as pd\n",
    "\n",
    "# Re-load or re-fetch your DataFrame as needed\n",
    "# commodity_df = fetch_commodity_data(commodity_sources)\n",
    "\n",
    "# Ensure the output folder exists\n",
    "os.makedirs('data/processed', exist_ok=True)\n",
    "\n",
    "# Export to Excel\n",
    "df.to_excel('data/processed/sample_cost_data.xlsx', index=False)\n",
    "\n",
    "print(\"Exported to data/processed/sample_cost_data.xlsx\")\n"
   ]
  }
 ],
 "metadata": {
  "kernelspec": {
   "display_name": "Python 3",
   "language": "python",
   "name": "python3"
  },
  "language_info": {
   "codemirror_mode": {
    "name": "ipython",
    "version": 3
   },
   "file_extension": ".py",
   "mimetype": "text/x-python",
   "name": "python",
   "nbconvert_exporter": "python",
   "pygments_lexer": "ipython3",
   "version": "3.9.6"
  }
 },
 "nbformat": 4,
 "nbformat_minor": 5
}
