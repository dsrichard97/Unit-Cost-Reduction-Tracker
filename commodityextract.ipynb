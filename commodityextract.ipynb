{
 "cells": [
  {
   "cell_type": "markdown",
   "id": "42051c0d",
   "metadata": {},
   "source": [
    "## Commodity Extraction\n",
    "The goal of this code is to extract commodity prices  using the FRED global price index. Why tracking commodities? We can infer from the supply chain side this affects the raw materials and in return affect the cost of generating items."
   ]
  },
  {
   "cell_type": "markdown",
   "id": "cc2615bd",
   "metadata": {},
   "source": [
    "## Top Commodities Critical to Aerospace 🚀 \n",
    "\n",
    "1. **Aluminum and Aluminum Alloys**  \n",
    "   - **Use**: Rocket bodies, aircraft fuselages, structural components.  \n",
    "   - **Why**: Lightweight, strong, corrosion-resistant.\n",
    "\n",
    "2. **Titanium**  \n",
    "   - **Use**: Engine components, fasteners, and structural parts.  \n",
    "   - **Why**: High strength-to-weight ratio, excellent heat resistance.\n",
    "\n",
    "3. **Carbon Fiber Composites**  \n",
    "   - **Use**: Rocket fairings, spacecraft structures, satellite components.  \n",
    "   - **Why**: Extremely lightweight and strong, used in SpaceX’s Dragon and Starship.\n",
    "\n",
    "4. **Copper and Copper Alloys**  \n",
    "   - **Use**: Rocket engine nozzles, avionics, wiring.  \n",
    "   - **Why**: Excellent thermal and electrical conductivity.\n",
    "\n",
    "5. **Nickel and Superalloys (e.g., Inconel)**  \n",
    "   - **Use**: Rocket engines, turbine blades.  \n",
    "   - **Why**: Withstands extreme temperatures and pressures.\n",
    "\n",
    "6. **Rare Earth Elements (REEs)**  \n",
    "   - **Use**: Avionics, sensors, electric propulsion systems.  \n",
    "   - **Why**: Essential for high-performance electronics and magnets.\n",
    "\n",
    "7. **Hydrocarbons (e.g., RP-1, Methane)**  \n",
    "   - **Use**: Rocket fuel (RP-1 for Falcon 9, Methane for Starship).  \n",
    "   - **Why**: High energy density, clean combustion.\n",
    "\n",
    "8. **Silicon**  \n",
    "   - **Use**: Solar panels, semiconductors in avionics.  \n",
    "   - **Why**: Core material for electronics and energy systems.\n"
   ]
  },
  {
   "cell_type": "code",
   "execution_count": 5,
   "id": "4b6880be",
   "metadata": {},
   "outputs": [],
   "source": [
    "#pip install requests"
   ]
  },
  {
   "cell_type": "code",
   "execution_count": 14,
   "id": "e94d1bd0",
   "metadata": {},
   "outputs": [],
   "source": [
    "import pandas as pd\n",
    "from io import StringIO\n",
    "import requests"
   ]
  },
  {
   "cell_type": "code",
   "execution_count": 19,
   "id": "137fb18c",
   "metadata": {},
   "outputs": [],
   "source": [
    "def fetch_commodity_data(sources):\n",
    "    all_data = []\n",
    "    for name, url in sources.items():\n",
    "        try:\n",
    "            resp = requests.get(url)\n",
    "            resp.raise_for_status()\n",
    "        except requests.exceptions.HTTPError as e:\n",
    "            print(f\"⚠️  Skipping {name}: HTTP error {e.response.status_code} for URL {url}\")\n",
    "            continue\n",
    "        except requests.exceptions.RequestException as e:\n",
    "            print(f\"⚠️  Skipping {name}: network error ({e})\")\n",
    "            continue\n",
    "\n",
    "        df = pd.read_csv(StringIO(resp.text))\n",
    "        # Rename columns generically\n",
    "        df = df.rename(columns={df.columns[0]: 'date', df.columns[1]: 'price'})\n",
    "        df['date'] = pd.to_datetime(df['date'])\n",
    "        df['commodity'] = name\n",
    "        all_data.append(df[['date', 'price', 'commodity']])\n",
    "\n",
    "    if not all_data:\n",
    "        raise RuntimeError(\"No commodity series could be fetched.\")\n",
    "    return pd.concat(all_data, ignore_index=True)\n"
   ]
  },
  {
   "cell_type": "code",
   "execution_count": 20,
   "id": "ec93efec",
   "metadata": {},
   "outputs": [],
   "source": [
    "# 2) Define your source URLs\n",
    "commodity_sources = {\n",
    "    \"Aluminum\": \"https://fred.stlouisfed.org/graph/fredgraph.csv?id=PALUMUSDM\",\n",
    "    \"Copper\": \"https://fred.stlouisfed.org/graph/fredgraph.csv?id=PCOPPUSDM\",\n",
    "    \"Nickel\": \"https://fred.stlouisfed.org/graph/fredgraph.csv?id=PNICKUSDM\",\n",
    "    \"Crude Oil (RP-1 proxy)\": \"https://fred.stlouisfed.org/graph/fredgraph.csv?id=ACOILWTICO\",\n",
    "    \"Natural Gas (Henry Hub Spot)\": \"https://fred.stlouisfed.org/graph/fredgraph.csv?id=MHHNGSP\",        # Henry Hub Natural Gas Spot Price :contentReference[oaicite:0]{index=0}\n",
    "    \"Rare-Earth Metals Import PPI\": \"https://fred.stlouisfed.org/graph/fredgraph.csv?id=IP28\"      # Import PPI for Rare-Earth Metals :contentReference[oaicite:1]{index=1}\n",
    "}"
   ]
  },
  {
   "cell_type": "code",
   "execution_count": 22,
   "id": "3e0d5fab",
   "metadata": {},
   "outputs": [
    {
     "name": "stdout",
     "output_type": "stream",
     "text": [
      "        date   price commodity\n",
      "0 1990-01-01  1528.0  Aluminum\n",
      "1 1990-02-01  1454.0  Aluminum\n",
      "2 1990-03-01  1567.0  Aluminum\n",
      "3 1990-04-01  1526.0  Aluminum\n",
      "4 1990-05-01  1527.0  Aluminum\n",
      "           date  price                     commodity\n",
      "1652 2024-12-01  100.0  Rare-Earth Metals Import PPI\n",
      "1653 2025-01-01  100.2  Rare-Earth Metals Import PPI\n",
      "1654 2025-02-01   94.4  Rare-Earth Metals Import PPI\n",
      "1655 2025-03-01   96.2  Rare-Earth Metals Import PPI\n",
      "1656 2025-04-01   90.7  Rare-Earth Metals Import PPI\n"
     ]
    }
   ],
   "source": [
    "# Fetch and preview\n",
    "df = fetch_commodity_data(commodity_sources)\n",
    "print(df.head())\n",
    "print(df.tail())"
   ]
  }
 ],
 "metadata": {
  "kernelspec": {
   "display_name": "Python 3",
   "language": "python",
   "name": "python3"
  },
  "language_info": {
   "codemirror_mode": {
    "name": "ipython",
    "version": 3
   },
   "file_extension": ".py",
   "mimetype": "text/x-python",
   "name": "python",
   "nbconvert_exporter": "python",
   "pygments_lexer": "ipython3",
   "version": "3.9.6"
  }
 },
 "nbformat": 4,
 "nbformat_minor": 5
}
