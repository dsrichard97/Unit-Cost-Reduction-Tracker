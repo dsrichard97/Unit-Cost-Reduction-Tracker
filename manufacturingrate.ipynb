{
 "cells": [
  {
   "cell_type": "markdown",
   "id": "793d4ff8",
   "metadata": {},
   "source": [
    "## FRED MANUFACTURING AVG. HOURLY RATE\n",
    "We pulled U.S. manufacturing average hourly earnings from FRED to establish our labor rate calculations. This provided a theoretical baseline estimate and, when combined with commodity price data, enabled us to model prospective unit-cost outcomes. This python serves to pull data but also distinguish each of the data extraction."
   ]
  },
  {
   "cell_type": "code",
   "execution_count": 1,
   "id": "d20ab89d",
   "metadata": {},
   "outputs": [
    {
     "name": "stderr",
     "output_type": "stream",
     "text": [
      "/Users/richarddiaz/Library/Python/3.9/lib/python/site-packages/urllib3/__init__.py:35: NotOpenSSLWarning: urllib3 v2 only supports OpenSSL 1.1.1+, currently the 'ssl' module is compiled with 'LibreSSL 2.8.3'. See: https://github.com/urllib3/urllib3/issues/3020\n",
      "  warnings.warn(\n"
     ]
    }
   ],
   "source": [
    "import pandas as pd\n",
    "from io import StringIO\n",
    "import requests"
   ]
  },
  {
   "cell_type": "code",
   "execution_count": 2,
   "id": "004d4ebe",
   "metadata": {},
   "outputs": [],
   "source": [
    "# 1. Define the FRED URL for Manufacturing Avg. Hourly Earnings\n",
    "bls_url = \"https://fred.stlouisfed.org/graph/fredgraph.csv?id=CES3000000003\""
   ]
  },
  {
   "cell_type": "code",
   "execution_count": 3,
   "id": "437a9f66",
   "metadata": {},
   "outputs": [
    {
     "name": "stdout",
     "output_type": "stream",
     "text": [
      "        date  avg_hourly_earnings\n",
      "0 2006-03-01                20.71\n",
      "1 2006-04-01                20.83\n",
      "2 2006-05-01                20.73\n",
      "3 2006-06-01                20.82\n",
      "4 2006-07-01                20.93\n"
     ]
    }
   ],
   "source": [
    "# 2. Fetch the CSV\n",
    "resp = requests.get(bls_url)\n",
    "resp.raise_for_status()  # ensure we got a 200 OK\n",
    "\n",
    "# 3. Read into DataFrame, rename columns, parse dates\n",
    "labor_df = pd.read_csv(StringIO(resp.text))\n",
    "labor_df = labor_df.rename(columns={labor_df.columns[0]: 'date', labor_df.columns[1]: 'avg_hourly_earnings'})\n",
    "labor_df['date'] = pd.to_datetime(labor_df['date'])\n",
    "\n",
    "# 4. (Optional) inspect the head\n",
    "print(labor_df.head())"
   ]
  },
  {
   "cell_type": "code",
   "execution_count": 6,
   "id": "0ba4ab6a",
   "metadata": {},
   "outputs": [
    {
     "name": "stdout",
     "output_type": "stream",
     "text": [
      "Exported to data/processed/labor_data.csv\n"
     ]
    }
   ],
   "source": [
    "import os\n",
    "# ensure the output folder exists\n",
    "os.makedirs('data/processed', exist_ok=True)\n",
    "\n",
    "# Export as CSV instead\n",
    "labor_df.to_csv('data/processed/labor_data.csv', index=False)\n",
    "print(\"Exported to data/processed/labor_data.csv\")"
   ]
  }
 ],
 "metadata": {
  "kernelspec": {
   "display_name": "Python 3",
   "language": "python",
   "name": "python3"
  },
  "language_info": {
   "codemirror_mode": {
    "name": "ipython",
    "version": 3
   },
   "file_extension": ".py",
   "mimetype": "text/x-python",
   "name": "python",
   "nbconvert_exporter": "python",
   "pygments_lexer": "ipython3",
   "version": "3.9.6"
  }
 },
 "nbformat": 4,
 "nbformat_minor": 5
}
