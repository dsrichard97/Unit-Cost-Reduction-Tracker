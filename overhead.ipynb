{
 "cells": [
  {
   "cell_type": "markdown",
   "id": "b371b928",
   "metadata": {},
   "source": [
    "## Theoretical Overhead Costs\n",
    "\n",
    "Overhead expenses are essential for sustaining operations and maintaining profitability. Because detailed overhead data in the aerospace sector is often restricted for security reasons, we have developed a theoretical rate model to approximate these costs.\n"
   ]
  },
  {
   "cell_type": "code",
   "execution_count": 1,
   "id": "b975d618",
   "metadata": {},
   "outputs": [],
   "source": [
    "import pandas as pd\n",
    "import numpy as np\n",
    "\n",
    "# 1. Generate monthly dates\n",
    "dates = pd.date_range(start='2020-01-01', end='2025-05-01', freq='MS')"
   ]
  },
  {
   "cell_type": "code",
   "execution_count": 2,
   "id": "98d63687",
   "metadata": {},
   "outputs": [],
   "source": [
    "# 2. Simulate overhead rates: mean 20%, std 5%, clipped to [10%, 30%]\n",
    "np.random.seed(42)\n",
    "rates = np.random.normal(loc=0.20, scale=0.05, size=len(dates))\n",
    "rates = np.clip(rates, 0.10, 0.30)\n",
    "\n",
    "# 3. Build DataFrame\n",
    "overhead_df = pd.DataFrame({\n",
    "    'date': dates,\n",
    "    'overhead_rate_pct': np.round(rates, 4)\n",
    "})\n"
   ]
  },
  {
   "cell_type": "code",
   "execution_count": 3,
   "id": "24e2c7ba",
   "metadata": {},
   "outputs": [
    {
     "name": "stdout",
     "output_type": "stream",
     "text": [
      "         date  overhead_rate_pct\n",
      "0  2020-01-01             0.2248\n",
      "1  2020-02-01             0.1931\n",
      "2  2020-03-01             0.2324\n",
      "3  2020-04-01             0.2762\n",
      "4  2020-05-01             0.1883\n",
      "5  2020-06-01             0.1883\n",
      "6  2020-07-01             0.2790\n",
      "7  2020-08-01             0.2384\n",
      "8  2020-09-01             0.1765\n",
      "9  2020-10-01             0.2271\n",
      "10 2020-11-01             0.1768\n",
      "11 2020-12-01             0.1767\n"
     ]
    }
   ],
   "source": [
    "# 4. Preview and save\n",
    "print(overhead_df.head(12))\n",
    "overhead_df.to_csv('data/processed/overhead_rate.csv', index=False)\n"
   ]
  }
 ],
 "metadata": {
  "kernelspec": {
   "display_name": "Python 3",
   "language": "python",
   "name": "python3"
  },
  "language_info": {
   "codemirror_mode": {
    "name": "ipython",
    "version": 3
   },
   "file_extension": ".py",
   "mimetype": "text/x-python",
   "name": "python",
   "nbconvert_exporter": "python",
   "pygments_lexer": "ipython3",
   "version": "3.9.6"
  }
 },
 "nbformat": 4,
 "nbformat_minor": 5
}
