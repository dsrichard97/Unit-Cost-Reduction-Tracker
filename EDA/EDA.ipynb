{
 "cells": [
  {
   "cell_type": "markdown",
   "id": "441e01fd",
   "metadata": {},
   "source": [
    "## TREND ANALYSIS \n",
    "Create a trend analysis and simple calculations that will be used for dashboard integrated calculations. The goal is to have a programmable calculator that can be used as an embedded feature for web deployment. The use case for this calculator is to reduce the frequency of analysts to re-calculate the figures."
   ]
  }
 ],
 "metadata": {
  "language_info": {
   "name": "python"
  }
 },
 "nbformat": 4,
 "nbformat_minor": 5
}
