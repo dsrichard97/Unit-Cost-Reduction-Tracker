{
 "cells": [
  {
   "cell_type": "markdown",
   "id": "441e01fd",
   "metadata": {},
   "source": [
    "## TREND ANALYSIS \n",
    "Design and implement a monthly trend‐analysis framework to serve as the foundational model for budget-versus-actual variance calculations. Incorporate clear, concise formulas that can be embedded directly into your dashboard for real-time reporting. Ultimately, package these routines as a programmable calculator module for web deployment—automating recurring computations and freeing analysts from manually recalculating figures."
   ]
  },
  {
   "cell_type": "markdown",
   "id": "37d5a887",
   "metadata": {},
   "source": [
    "## Centralizing DATA\n",
    "Centralizing Data\n",
    "Historically, unit costs have been calculated by combining materials, labor, and overhead expenses. Because overhead allocations originate at the corporate level, estimating them can be challenging and can introduce variability into the unit‐cost calculation. For this project, we have simplified and standardized these metrics into a single extraction process. Going forward, all company data will be consolidated into monthly query‐based batches for consistency and reliability. For the purposes of this project, we currently focus on dataframe extracts moving forward to automated queries."
   ]
  },
  {
   "cell_type": "code",
   "execution_count": 4,
   "id": "e4f339c8",
   "metadata": {},
   "outputs": [
    {
     "data": {
      "text/html": [
       "<div>\n",
       "<style scoped>\n",
       "    .dataframe tbody tr th:only-of-type {\n",
       "        vertical-align: middle;\n",
       "    }\n",
       "\n",
       "    .dataframe tbody tr th {\n",
       "        vertical-align: top;\n",
       "    }\n",
       "\n",
       "    .dataframe thead th {\n",
       "        text-align: right;\n",
       "    }\n",
       "</style>\n",
       "<table border=\"1\" class=\"dataframe\">\n",
       "  <thead>\n",
       "    <tr style=\"text-align: right;\">\n",
       "      <th></th>\n",
       "      <th>date</th>\n",
       "      <th>avg_hourly_earnings</th>\n",
       "      <th>month</th>\n",
       "    </tr>\n",
       "  </thead>\n",
       "  <tbody>\n",
       "    <tr>\n",
       "      <th>226</th>\n",
       "      <td>2025-01-01</td>\n",
       "      <td>34.73</td>\n",
       "      <td>2025-01</td>\n",
       "    </tr>\n",
       "    <tr>\n",
       "      <th>227</th>\n",
       "      <td>2025-02-01</td>\n",
       "      <td>34.88</td>\n",
       "      <td>2025-02</td>\n",
       "    </tr>\n",
       "    <tr>\n",
       "      <th>228</th>\n",
       "      <td>2025-03-01</td>\n",
       "      <td>35.17</td>\n",
       "      <td>2025-03</td>\n",
       "    </tr>\n",
       "    <tr>\n",
       "      <th>229</th>\n",
       "      <td>2025-04-01</td>\n",
       "      <td>35.11</td>\n",
       "      <td>2025-04</td>\n",
       "    </tr>\n",
       "    <tr>\n",
       "      <th>230</th>\n",
       "      <td>2025-05-01</td>\n",
       "      <td>35.28</td>\n",
       "      <td>2025-05</td>\n",
       "    </tr>\n",
       "  </tbody>\n",
       "</table>\n",
       "</div>"
      ],
      "text/plain": [
       "          date  avg_hourly_earnings    month\n",
       "226 2025-01-01                34.73  2025-01\n",
       "227 2025-02-01                34.88  2025-02\n",
       "228 2025-03-01                35.17  2025-03\n",
       "229 2025-04-01                35.11  2025-04\n",
       "230 2025-05-01                35.28  2025-05"
      ]
     },
     "execution_count": 4,
     "metadata": {},
     "output_type": "execute_result"
    }
   ],
   "source": [
    "## Centralizing DATAset\n",
    "## 1. Congifuring the labor_data csv and sampe cost_data.xlsx\n",
    "import pandas as pd\n",
    "\n",
    "# If your CSV is in a file:\n",
    "df1 = pd.read_csv('labor_data.csv')\n",
    "                  \n",
    "# 1. Ensure the date columns are datetime\n",
    "df1['date'] = pd.to_datetime(df1['date'])\n",
    "\n",
    "# 2. Create a “month” key (YYYY-MM) in each\n",
    "df1['month'] = df1['date'].dt.to_period('M')\n",
    "\n",
    "df1.head(5)\n",
    "df1.tail(5)\n",
    "df1.head(5)\n",
    "df1.tail(5)\n"
   ]
  },
  {
   "cell_type": "code",
   "execution_count": 5,
   "id": "7000da2b",
   "metadata": {},
   "outputs": [
    {
     "name": "stdout",
     "output_type": "stream",
     "text": [
      "        date   price commodity    month\n",
      "0 1990-01-01  1528.0  Aluminum  1990-01\n",
      "1 1990-02-01  1454.0  Aluminum  1990-02\n",
      "2 1990-03-01  1567.0  Aluminum  1990-03\n",
      "3 1990-04-01  1526.0  Aluminum  1990-04\n",
      "4 1990-05-01  1527.0  Aluminum  1990-05\n",
      "           date  price                     commodity    month\n",
      "1652 2024-12-01  100.0  Rare-Earth Metals Import PPI  2024-12\n",
      "1653 2025-01-01  100.2  Rare-Earth Metals Import PPI  2025-01\n",
      "1654 2025-02-01   94.4  Rare-Earth Metals Import PPI  2025-02\n",
      "1655 2025-03-01   96.2  Rare-Earth Metals Import PPI  2025-03\n",
      "1656 2025-04-01   90.7  Rare-Earth Metals Import PPI  2025-04\n"
     ]
    }
   ],
   "source": [
    "import pandas as pd\n",
    "\n",
    "# 2. Configuring the sample cost_data.xlsx\n",
    "# Load the workbook into a DataFrame\n",
    "df2 = pd.read_excel('sample_cost_data.xlsx')\n",
    "\n",
    "# 1. Ensure the date columns are datetime\n",
    "df2['date'] = pd.to_datetime(df2['date'])\n",
    "\n",
    "# 2. Create a “month” key (YYYY-MM) in each\n",
    "df2['month'] = df2['date'].dt.to_period('M')\n",
    "\n",
    "# Preview the first 5 rows\n",
    "print(df2.head(5))\n",
    "\n",
    "# Preview the last 5 rows\n",
    "print(df2.tail(5))"
   ]
  },
  {
   "cell_type": "code",
   "execution_count": 6,
   "id": "413f98f4",
   "metadata": {},
   "outputs": [],
   "source": [
    "# 3. Merge on that month period\n",
    "merged = pd.merge(\n",
    "    df1,\n",
    "    df2,\n",
    "    on='month',\n",
    "    how='inner',\n",
    ")"
   ]
  },
  {
   "cell_type": "code",
   "execution_count": 7,
   "id": "10b1d857",
   "metadata": {},
   "outputs": [
    {
     "name": "stdout",
     "output_type": "stream",
     "text": [
      "        date_x  avg_hourly_earnings    month     date_y         price  \\\n",
      "0   2006-03-01                20.71  2006-03 2006-03-01   2432.478261   \n",
      "1   2006-03-01                20.71  2006-03 2006-03-01   5123.673913   \n",
      "2   2006-03-01                20.71  2006-03 2006-03-01  14925.478261   \n",
      "3   2006-03-01                20.71  2006-03 2006-03-01      6.890000   \n",
      "4   2006-04-01                20.83  2006-04 2006-04-01   2623.858333   \n",
      "..         ...                  ...      ...        ...           ...   \n",
      "939 2025-04-01                35.11  2025-04 2025-04-01   9172.695909   \n",
      "940 2025-04-01                35.11  2025-04 2025-04-01  15146.002273   \n",
      "941 2025-04-01                35.11  2025-04 2025-04-01      3.420000   \n",
      "942 2025-04-01                35.11  2025-04 2025-04-01     90.700000   \n",
      "943 2025-05-01                35.28  2025-05 2025-05-01      3.120000   \n",
      "\n",
      "                        commodity  \n",
      "0                        Aluminum  \n",
      "1                          Copper  \n",
      "2                          Nickel  \n",
      "3    Natural Gas (Henry Hub Spot)  \n",
      "4                        Aluminum  \n",
      "..                            ...  \n",
      "939                        Copper  \n",
      "940                        Nickel  \n",
      "941  Natural Gas (Henry Hub Spot)  \n",
      "942  Rare-Earth Metals Import PPI  \n",
      "943  Natural Gas (Henry Hub Spot)  \n",
      "\n",
      "[944 rows x 6 columns]\n"
     ]
    }
   ],
   "source": [
    "print(merged)"
   ]
  },
  {
   "cell_type": "code",
   "execution_count": 9,
   "id": "fb73d9a9",
   "metadata": {},
   "outputs": [
    {
     "name": "stdout",
     "output_type": "stream",
     "text": [
      "  year_month earnings_date  avg_hourly_earnings price_date  \\\n",
      "0 2006-03-01    2006-03-01                20.71 2006-03-01   \n",
      "1 2006-03-01    2006-03-01                20.71 2006-03-01   \n",
      "2 2006-03-01    2006-03-01                20.71 2006-03-01   \n",
      "3 2006-03-01    2006-03-01                20.71 2006-03-01   \n",
      "4 2006-04-01    2006-04-01                20.83 2006-04-01   \n",
      "\n",
      "                      commodity         price  \n",
      "0                      Aluminum   2432.478261  \n",
      "1                        Copper   5123.673913  \n",
      "2                        Nickel  14925.478261  \n",
      "3  Natural Gas (Henry Hub Spot)      6.890000  \n",
      "4                      Aluminum   2623.858333  \n",
      "commodity year_month earnings_date  avg_hourly_earnings     Aluminum  \\\n",
      "0         2006-03-01    2006-03-01                20.71  2432.478261   \n",
      "1         2006-04-01    2006-04-01                20.83  2623.858333   \n",
      "2         2006-05-01    2006-05-01                20.73  2852.071429   \n",
      "3         2006-06-01    2006-06-01                20.82  2490.954545   \n",
      "4         2006-07-01    2006-07-01                20.93  2511.833333   \n",
      "\n",
      "commodity       Copper  Crude Oil (RP-1 proxy)  Natural Gas (Henry Hub Spot)  \\\n",
      "0          5123.673913                     NaN                          6.89   \n",
      "1          6404.444444                     NaN                          7.16   \n",
      "2          8059.190476                     NaN                          6.25   \n",
      "3          7222.772727                     NaN                          6.21   \n",
      "4          7726.738095                     NaN                          6.17   \n",
      "\n",
      "commodity        Nickel  Rare-Earth Metals Import PPI  \n",
      "0          14925.478261                           NaN  \n",
      "1          18028.888889                           NaN  \n",
      "2          21131.333333                           NaN  \n",
      "3          20585.909091                           NaN  \n",
      "4          26185.714286                           NaN  \n",
      "    year_month earnings_date  avg_hourly_earnings price_date  \\\n",
      "939 2025-04-01    2025-04-01                35.11 2025-04-01   \n",
      "940 2025-04-01    2025-04-01                35.11 2025-04-01   \n",
      "941 2025-04-01    2025-04-01                35.11 2025-04-01   \n",
      "942 2025-04-01    2025-04-01                35.11 2025-04-01   \n",
      "943 2025-05-01    2025-05-01                35.28 2025-05-01   \n",
      "\n",
      "                        commodity         price  \n",
      "939                        Copper   9172.695909  \n",
      "940                        Nickel  15146.002273  \n",
      "941  Natural Gas (Henry Hub Spot)      3.420000  \n",
      "942  Rare-Earth Metals Import PPI     90.700000  \n",
      "943  Natural Gas (Henry Hub Spot)      3.120000  \n",
      "commodity year_month earnings_date  avg_hourly_earnings     Aluminum  \\\n",
      "226       2025-01-01    2025-01-01                34.73  2571.370435   \n",
      "227       2025-02-01    2025-02-01                34.88  2655.772500   \n",
      "228       2025-03-01    2025-03-01                35.17  2651.598571   \n",
      "229       2025-04-01    2025-04-01                35.11  2367.800455   \n",
      "230       2025-05-01    2025-05-01                35.28          NaN   \n",
      "\n",
      "commodity       Copper  Crude Oil (RP-1 proxy)  Natural Gas (Henry Hub Spot)  \\\n",
      "226        8976.680435                     NaN                          4.13   \n",
      "227        9330.975000                     NaN                          4.19   \n",
      "228        9735.823333                     NaN                          4.12   \n",
      "229        9172.695909                     NaN                          3.42   \n",
      "230                NaN                     NaN                          3.12   \n",
      "\n",
      "commodity        Nickel  Rare-Earth Metals Import PPI  \n",
      "226        15374.060870                         100.2  \n",
      "227        15287.031000                          94.4  \n",
      "228        16048.201905                          96.2  \n",
      "229        15146.002273                          90.7  \n",
      "230                 NaN                           NaN  \n"
     ]
    }
   ],
   "source": [
    "import pandas as pd\n",
    "\n",
    "# assuming your merged DataFrame is called `df`\n",
    "df = merged.copy()\n",
    "\n",
    "# 1. Rename columns for clarity\n",
    "df = df.rename(columns={\n",
    "    'date_x': 'earnings_date',\n",
    "    'date_y': 'price_date',\n",
    "    'month': 'year_month'\n",
    "})\n",
    "\n",
    "# 2. Convert types\n",
    "# — ensure your dates are true timestamps\n",
    "df['earnings_date'] = pd.to_datetime(df['earnings_date'])\n",
    "df['price_date']    = pd.to_datetime(df['price_date'])\n",
    "# — if you want year_month as a Timestamp instead of Period:\n",
    "df['year_month']    = df['year_month'].dt.to_timestamp()\n",
    "\n",
    "# 3. Drop any totally redundant columns\n",
    "# If price_date and earnings_date always match year_month exactly, you can drop one:\n",
    "#df = df.drop(columns=['price_date'])\n",
    "\n",
    "# 4. Reorder columns into a more logical flow\n",
    "df = df[[\n",
    "    'year_month',\n",
    "    'earnings_date',\n",
    "    'avg_hourly_earnings',\n",
    "    'price_date',\n",
    "    'commodity',\n",
    "    'price'\n",
    "]]\n",
    "\n",
    "# 5. (Optional) Remove duplicates, if any slipped in\n",
    "df = df.drop_duplicates()\n",
    "\n",
    "# 6. (Optional) Pivot so each commodity becomes its own column of prices\n",
    "df_pivot = (\n",
    "    df\n",
    "    .pivot_table(\n",
    "        index=['year_month', 'earnings_date', 'avg_hourly_earnings'],\n",
    "        columns='commodity',\n",
    "        values='price'\n",
    "    )\n",
    "    .reset_index()\n",
    ")\n",
    "\n",
    "# 7. (Optional) Sort chronologically\n",
    "df_pivot = df_pivot.sort_values(by='year_month')\n",
    "\n",
    "# Now `df` is your tidy long‐form table, and `df_pivot` is wide‐form.\n",
    "print(df.head())\n",
    "print(df_pivot.head())\n",
    "# Now `df` is your tidy long‐form table, and `df_pivot` is wide‐form.\n",
    "print(df.tail())\n",
    "print(df_pivot.tail())\n"
   ]
  },
  {
   "cell_type": "code",
   "execution_count": 15,
   "id": "994b1a54",
   "metadata": {},
   "outputs": [
    {
     "name": "stdout",
     "output_type": "stream",
     "text": [
      "RangeIndex(start=0, stop=944, step=1)\n",
      "Start: 0\n",
      "Stop: 944\n",
      "Step: 1\n",
      "Last valid: 943\n"
     ]
    }
   ],
   "source": [
    "idx = df.index  # e.g. RangeIndex\n",
    "\n",
    "print(idx)                  # prints something like RangeIndex\n",
    "print(\"Start:\", idx.start)  # start\n",
    "print(\"Stop:\", idx.stop)    # stop\n",
    "print(\"Step:\", idx.step)    # step\n",
    "print(\"Last valid:\", idx.stop - idx.step)  # range"
   ]
  },
  {
   "cell_type": "code",
   "execution_count": 10,
   "id": "697c4158",
   "metadata": {},
   "outputs": [],
   "source": [
    "#check for commodity merge dataframe\n",
    "import pandas as pd\n",
    "\n",
    "# assume your long form is in df_long and your pivoted wide form is in df_wide\n",
    "df_long = df.copy()        # the “year_month, earnings_date, …, commodity, price” layout\n",
    "df_wide = df_pivot.copy()  # the pivoted “year_month, earnings_date, avg_hourly_earnings, Aluminum, Copper, …” layout\n",
    "\n",
    "# all rows where commodity is Aluminum\n",
    "aluminum = df_long[df_long['commodity'] == 'Aluminum']\n"
   ]
  },
  {
   "cell_type": "code",
   "execution_count": null,
   "id": "25639f35",
   "metadata": {},
   "outputs": [],
   "source": [
    "march_2006 = df_long[df_long['year_month'] == pd.Timestamp('2006-03-01')] # one month check for quality assurance\n"
   ]
  },
  {
   "cell_type": "code",
   "execution_count": 16,
   "id": "4f49d207",
   "metadata": {},
   "outputs": [
    {
     "name": "stdout",
     "output_type": "stream",
     "text": [
      "    year_month earnings_date  avg_hourly_earnings price_date commodity  \\\n",
      "0   2006-03-01    2006-03-01                20.71 2006-03-01  Aluminum   \n",
      "4   2006-04-01    2006-04-01                20.83 2006-04-01  Aluminum   \n",
      "8   2006-05-01    2006-05-01                20.73 2006-05-01  Aluminum   \n",
      "12  2006-06-01    2006-06-01                20.82 2006-06-01  Aluminum   \n",
      "16  2006-07-01    2006-07-01                20.93 2006-07-01  Aluminum   \n",
      "..         ...           ...                  ...        ...       ...   \n",
      "906 2024-09-01    2024-09-01                34.26 2024-09-01  Aluminum   \n",
      "910 2024-10-01    2024-10-01                34.36 2024-10-01  Aluminum   \n",
      "914 2024-11-01    2024-11-01                34.47 2024-11-01  Aluminum   \n",
      "918 2024-12-01    2024-12-01                34.54 2024-12-01  Aluminum   \n",
      "923 2025-01-01    2025-01-01                34.73 2025-01-01  Aluminum   \n",
      "\n",
      "           price  \n",
      "0    2432.478261  \n",
      "4    2623.858333  \n",
      "8    2852.071429  \n",
      "12   2490.954545  \n",
      "16   2511.833333  \n",
      "..           ...  \n",
      "906  2457.478095  \n",
      "910  2595.583043  \n",
      "914  2582.188571  \n",
      "918  2540.882273  \n",
      "923  2571.370435  \n",
      "\n",
      "[227 rows x 6 columns]\n"
     ]
    }
   ],
   "source": [
    "# Aluminum AND after January 2025\n",
    "mask = (\n",
    "    (df_long['commodity'] == 'Aluminum') &\n",
    "    (df_long['year_month'] <= pd.Timestamp('2025-01-01'))\n",
    ")\n",
    "filtered = df_long[mask]\n",
    "print(filtered)"
   ]
  },
  {
   "cell_type": "code",
   "execution_count": 17,
   "id": "57bf8a2b",
   "metadata": {},
   "outputs": [
    {
     "name": "stdout",
     "output_type": "stream",
     "text": [
      "RangeIndex(start=0, stop=944, step=1)\n",
      "Start: 0\n",
      "Stop: 944\n",
      "Step: 1\n",
      "Last valid: 943\n"
     ]
    }
   ],
   "source": [
    "idx = df_long.index  # e.g. RangeIndex\n",
    "\n",
    "print(idx)                  # prints something like RangeIndex\n",
    "print(\"Start:\", idx.start)  # start\n",
    "print(\"Stop:\", idx.stop)    # stop\n",
    "print(\"Step:\", idx.step)    # step\n",
    "print(\"Last valid:\", idx.stop - idx.step)  # range\n"
   ]
  },
  {
   "cell_type": "code",
   "execution_count": 18,
   "id": "a7f9112a",
   "metadata": {},
   "outputs": [
    {
     "name": "stdout",
     "output_type": "stream",
     "text": [
      "Full index: DatetimeIndex(['2006-03-01', '2006-03-01', '2006-03-01', '2006-03-01',\n",
      "               '2006-04-01', '2006-04-01', '2006-04-01', '2006-04-01',\n",
      "               '2006-05-01', '2006-05-01',\n",
      "               ...\n",
      "               '2025-03-01', '2025-03-01', '2025-03-01', '2025-03-01',\n",
      "               '2025-04-01', '2025-04-01', '2025-04-01', '2025-04-01',\n",
      "               '2025-04-01', '2025-05-01'],\n",
      "              dtype='datetime64[ns]', name='earnings_date', length=944, freq=None)\n",
      "First index value: 2006-03-01 00:00:00\n",
      "Last index value:  2025-05-01 00:00:00\n",
      "First position: 0\n",
      "Last position:  943\n"
     ]
    }
   ],
   "source": [
    "# For a datetime index\n",
    "df = df.set_index('earnings_date')      # or whichever column\n",
    "print(\"Full index:\", df.index)\n",
    "\n",
    "print(\"First index value:\", df.index.min())\n",
    "print(\"Last index value: \", df.index.max())\n",
    "\n",
    "# If you just want their integer positions:\n",
    "positions = df.reset_index().index  # back to RangeIndex\n",
    "print(\"First position:\", positions.min())\n",
    "print(\"Last position: \", positions.max())\n"
   ]
  },
  {
   "cell_type": "code",
   "execution_count": 19,
   "id": "a58b66d2",
   "metadata": {},
   "outputs": [
    {
     "name": "stdout",
     "output_type": "stream",
     "text": [
      "All labels: [Timestamp('2006-03-01 00:00:00'), Timestamp('2006-03-01 00:00:00'), Timestamp('2006-03-01 00:00:00'), Timestamp('2006-03-01 00:00:00'), Timestamp('2006-04-01 00:00:00'), Timestamp('2006-04-01 00:00:00'), Timestamp('2006-04-01 00:00:00'), Timestamp('2006-04-01 00:00:00'), Timestamp('2006-05-01 00:00:00'), Timestamp('2006-05-01 00:00:00'), Timestamp('2006-05-01 00:00:00'), Timestamp('2006-05-01 00:00:00'), Timestamp('2006-06-01 00:00:00'), Timestamp('2006-06-01 00:00:00'), Timestamp('2006-06-01 00:00:00'), Timestamp('2006-06-01 00:00:00'), Timestamp('2006-07-01 00:00:00'), Timestamp('2006-07-01 00:00:00'), Timestamp('2006-07-01 00:00:00'), Timestamp('2006-07-01 00:00:00'), Timestamp('2006-08-01 00:00:00'), Timestamp('2006-08-01 00:00:00'), Timestamp('2006-08-01 00:00:00'), Timestamp('2006-08-01 00:00:00'), Timestamp('2006-09-01 00:00:00'), Timestamp('2006-09-01 00:00:00'), Timestamp('2006-09-01 00:00:00'), Timestamp('2006-09-01 00:00:00'), Timestamp('2006-10-01 00:00:00'), Timestamp('2006-10-01 00:00:00'), Timestamp('2006-10-01 00:00:00'), Timestamp('2006-10-01 00:00:00'), Timestamp('2006-11-01 00:00:00'), Timestamp('2006-11-01 00:00:00'), Timestamp('2006-11-01 00:00:00'), Timestamp('2006-11-01 00:00:00'), Timestamp('2006-12-01 00:00:00'), Timestamp('2006-12-01 00:00:00'), Timestamp('2006-12-01 00:00:00'), Timestamp('2006-12-01 00:00:00'), Timestamp('2007-01-01 00:00:00'), Timestamp('2007-01-01 00:00:00'), Timestamp('2007-01-01 00:00:00'), Timestamp('2007-01-01 00:00:00'), Timestamp('2007-01-01 00:00:00'), Timestamp('2007-02-01 00:00:00'), Timestamp('2007-02-01 00:00:00'), Timestamp('2007-02-01 00:00:00'), Timestamp('2007-02-01 00:00:00'), Timestamp('2007-03-01 00:00:00'), Timestamp('2007-03-01 00:00:00'), Timestamp('2007-03-01 00:00:00'), Timestamp('2007-03-01 00:00:00'), Timestamp('2007-04-01 00:00:00'), Timestamp('2007-04-01 00:00:00'), Timestamp('2007-04-01 00:00:00'), Timestamp('2007-04-01 00:00:00'), Timestamp('2007-05-01 00:00:00'), Timestamp('2007-05-01 00:00:00'), Timestamp('2007-05-01 00:00:00'), Timestamp('2007-05-01 00:00:00'), Timestamp('2007-06-01 00:00:00'), Timestamp('2007-06-01 00:00:00'), Timestamp('2007-06-01 00:00:00'), Timestamp('2007-06-01 00:00:00'), Timestamp('2007-07-01 00:00:00'), Timestamp('2007-07-01 00:00:00'), Timestamp('2007-07-01 00:00:00'), Timestamp('2007-07-01 00:00:00'), Timestamp('2007-08-01 00:00:00'), Timestamp('2007-08-01 00:00:00'), Timestamp('2007-08-01 00:00:00'), Timestamp('2007-08-01 00:00:00'), Timestamp('2007-09-01 00:00:00'), Timestamp('2007-09-01 00:00:00'), Timestamp('2007-09-01 00:00:00'), Timestamp('2007-09-01 00:00:00'), Timestamp('2007-10-01 00:00:00'), Timestamp('2007-10-01 00:00:00'), Timestamp('2007-10-01 00:00:00'), Timestamp('2007-10-01 00:00:00'), Timestamp('2007-11-01 00:00:00'), Timestamp('2007-11-01 00:00:00'), Timestamp('2007-11-01 00:00:00'), Timestamp('2007-11-01 00:00:00'), Timestamp('2007-12-01 00:00:00'), Timestamp('2007-12-01 00:00:00'), Timestamp('2007-12-01 00:00:00'), Timestamp('2007-12-01 00:00:00'), Timestamp('2008-01-01 00:00:00'), Timestamp('2008-01-01 00:00:00'), Timestamp('2008-01-01 00:00:00'), Timestamp('2008-01-01 00:00:00'), Timestamp('2008-01-01 00:00:00'), Timestamp('2008-02-01 00:00:00'), Timestamp('2008-02-01 00:00:00'), Timestamp('2008-02-01 00:00:00'), Timestamp('2008-02-01 00:00:00'), Timestamp('2008-03-01 00:00:00'), Timestamp('2008-03-01 00:00:00'), Timestamp('2008-03-01 00:00:00'), Timestamp('2008-03-01 00:00:00'), Timestamp('2008-04-01 00:00:00'), Timestamp('2008-04-01 00:00:00'), Timestamp('2008-04-01 00:00:00'), Timestamp('2008-04-01 00:00:00'), Timestamp('2008-05-01 00:00:00'), Timestamp('2008-05-01 00:00:00'), Timestamp('2008-05-01 00:00:00'), Timestamp('2008-05-01 00:00:00'), Timestamp('2008-06-01 00:00:00'), Timestamp('2008-06-01 00:00:00'), Timestamp('2008-06-01 00:00:00'), Timestamp('2008-06-01 00:00:00'), Timestamp('2008-07-01 00:00:00'), Timestamp('2008-07-01 00:00:00'), Timestamp('2008-07-01 00:00:00'), Timestamp('2008-07-01 00:00:00'), Timestamp('2008-08-01 00:00:00'), Timestamp('2008-08-01 00:00:00'), Timestamp('2008-08-01 00:00:00'), Timestamp('2008-08-01 00:00:00'), Timestamp('2008-09-01 00:00:00'), Timestamp('2008-09-01 00:00:00'), Timestamp('2008-09-01 00:00:00'), Timestamp('2008-09-01 00:00:00'), Timestamp('2008-10-01 00:00:00'), Timestamp('2008-10-01 00:00:00'), Timestamp('2008-10-01 00:00:00'), Timestamp('2008-10-01 00:00:00'), Timestamp('2008-11-01 00:00:00'), Timestamp('2008-11-01 00:00:00'), Timestamp('2008-11-01 00:00:00'), Timestamp('2008-11-01 00:00:00'), Timestamp('2008-12-01 00:00:00'), Timestamp('2008-12-01 00:00:00'), Timestamp('2008-12-01 00:00:00'), Timestamp('2008-12-01 00:00:00'), Timestamp('2009-01-01 00:00:00'), Timestamp('2009-01-01 00:00:00'), Timestamp('2009-01-01 00:00:00'), Timestamp('2009-01-01 00:00:00'), Timestamp('2009-01-01 00:00:00'), Timestamp('2009-02-01 00:00:00'), Timestamp('2009-02-01 00:00:00'), Timestamp('2009-02-01 00:00:00'), Timestamp('2009-02-01 00:00:00'), Timestamp('2009-03-01 00:00:00'), Timestamp('2009-03-01 00:00:00'), Timestamp('2009-03-01 00:00:00'), Timestamp('2009-03-01 00:00:00'), Timestamp('2009-04-01 00:00:00'), Timestamp('2009-04-01 00:00:00'), Timestamp('2009-04-01 00:00:00'), Timestamp('2009-04-01 00:00:00'), Timestamp('2009-05-01 00:00:00'), Timestamp('2009-05-01 00:00:00'), Timestamp('2009-05-01 00:00:00'), Timestamp('2009-05-01 00:00:00'), Timestamp('2009-06-01 00:00:00'), Timestamp('2009-06-01 00:00:00'), Timestamp('2009-06-01 00:00:00'), Timestamp('2009-06-01 00:00:00'), Timestamp('2009-07-01 00:00:00'), Timestamp('2009-07-01 00:00:00'), Timestamp('2009-07-01 00:00:00'), Timestamp('2009-07-01 00:00:00'), Timestamp('2009-08-01 00:00:00'), Timestamp('2009-08-01 00:00:00'), Timestamp('2009-08-01 00:00:00'), Timestamp('2009-08-01 00:00:00'), Timestamp('2009-09-01 00:00:00'), Timestamp('2009-09-01 00:00:00'), Timestamp('2009-09-01 00:00:00'), Timestamp('2009-09-01 00:00:00'), Timestamp('2009-10-01 00:00:00'), Timestamp('2009-10-01 00:00:00'), Timestamp('2009-10-01 00:00:00'), Timestamp('2009-10-01 00:00:00'), Timestamp('2009-11-01 00:00:00'), Timestamp('2009-11-01 00:00:00'), Timestamp('2009-11-01 00:00:00'), Timestamp('2009-11-01 00:00:00'), Timestamp('2009-12-01 00:00:00'), Timestamp('2009-12-01 00:00:00'), Timestamp('2009-12-01 00:00:00'), Timestamp('2009-12-01 00:00:00'), Timestamp('2010-01-01 00:00:00'), Timestamp('2010-01-01 00:00:00'), Timestamp('2010-01-01 00:00:00'), Timestamp('2010-01-01 00:00:00'), Timestamp('2010-01-01 00:00:00'), Timestamp('2010-02-01 00:00:00'), Timestamp('2010-02-01 00:00:00'), Timestamp('2010-02-01 00:00:00'), Timestamp('2010-02-01 00:00:00'), Timestamp('2010-03-01 00:00:00'), Timestamp('2010-03-01 00:00:00'), Timestamp('2010-03-01 00:00:00'), Timestamp('2010-03-01 00:00:00'), Timestamp('2010-04-01 00:00:00'), Timestamp('2010-04-01 00:00:00'), Timestamp('2010-04-01 00:00:00'), Timestamp('2010-04-01 00:00:00'), Timestamp('2010-05-01 00:00:00'), Timestamp('2010-05-01 00:00:00'), Timestamp('2010-05-01 00:00:00'), Timestamp('2010-05-01 00:00:00'), Timestamp('2010-06-01 00:00:00'), Timestamp('2010-06-01 00:00:00'), Timestamp('2010-06-01 00:00:00'), Timestamp('2010-06-01 00:00:00'), Timestamp('2010-07-01 00:00:00'), Timestamp('2010-07-01 00:00:00'), Timestamp('2010-07-01 00:00:00'), Timestamp('2010-07-01 00:00:00'), Timestamp('2010-08-01 00:00:00'), Timestamp('2010-08-01 00:00:00'), Timestamp('2010-08-01 00:00:00'), Timestamp('2010-08-01 00:00:00'), Timestamp('2010-09-01 00:00:00'), Timestamp('2010-09-01 00:00:00'), Timestamp('2010-09-01 00:00:00'), Timestamp('2010-09-01 00:00:00'), Timestamp('2010-10-01 00:00:00'), Timestamp('2010-10-01 00:00:00'), Timestamp('2010-10-01 00:00:00'), Timestamp('2010-10-01 00:00:00'), Timestamp('2010-11-01 00:00:00'), Timestamp('2010-11-01 00:00:00'), Timestamp('2010-11-01 00:00:00'), Timestamp('2010-11-01 00:00:00'), Timestamp('2010-12-01 00:00:00'), Timestamp('2010-12-01 00:00:00'), Timestamp('2010-12-01 00:00:00'), Timestamp('2010-12-01 00:00:00'), Timestamp('2011-01-01 00:00:00'), Timestamp('2011-01-01 00:00:00'), Timestamp('2011-01-01 00:00:00'), Timestamp('2011-01-01 00:00:00'), Timestamp('2011-01-01 00:00:00'), Timestamp('2011-02-01 00:00:00'), Timestamp('2011-02-01 00:00:00'), Timestamp('2011-02-01 00:00:00'), Timestamp('2011-02-01 00:00:00'), Timestamp('2011-03-01 00:00:00'), Timestamp('2011-03-01 00:00:00'), Timestamp('2011-03-01 00:00:00'), Timestamp('2011-03-01 00:00:00'), Timestamp('2011-04-01 00:00:00'), Timestamp('2011-04-01 00:00:00'), Timestamp('2011-04-01 00:00:00'), Timestamp('2011-04-01 00:00:00'), Timestamp('2011-05-01 00:00:00'), Timestamp('2011-05-01 00:00:00'), Timestamp('2011-05-01 00:00:00'), Timestamp('2011-05-01 00:00:00'), Timestamp('2011-06-01 00:00:00'), Timestamp('2011-06-01 00:00:00'), Timestamp('2011-06-01 00:00:00'), Timestamp('2011-06-01 00:00:00'), Timestamp('2011-07-01 00:00:00'), Timestamp('2011-07-01 00:00:00'), Timestamp('2011-07-01 00:00:00'), Timestamp('2011-07-01 00:00:00'), Timestamp('2011-08-01 00:00:00'), Timestamp('2011-08-01 00:00:00'), Timestamp('2011-08-01 00:00:00'), Timestamp('2011-08-01 00:00:00'), Timestamp('2011-09-01 00:00:00'), Timestamp('2011-09-01 00:00:00'), Timestamp('2011-09-01 00:00:00'), Timestamp('2011-09-01 00:00:00'), Timestamp('2011-10-01 00:00:00'), Timestamp('2011-10-01 00:00:00'), Timestamp('2011-10-01 00:00:00'), Timestamp('2011-10-01 00:00:00'), Timestamp('2011-11-01 00:00:00'), Timestamp('2011-11-01 00:00:00'), Timestamp('2011-11-01 00:00:00'), Timestamp('2011-11-01 00:00:00'), Timestamp('2011-12-01 00:00:00'), Timestamp('2011-12-01 00:00:00'), Timestamp('2011-12-01 00:00:00'), Timestamp('2011-12-01 00:00:00'), Timestamp('2012-01-01 00:00:00'), Timestamp('2012-01-01 00:00:00'), Timestamp('2012-01-01 00:00:00'), Timestamp('2012-01-01 00:00:00'), Timestamp('2012-01-01 00:00:00'), Timestamp('2012-02-01 00:00:00'), Timestamp('2012-02-01 00:00:00'), Timestamp('2012-02-01 00:00:00'), Timestamp('2012-02-01 00:00:00'), Timestamp('2012-03-01 00:00:00'), Timestamp('2012-03-01 00:00:00'), Timestamp('2012-03-01 00:00:00'), Timestamp('2012-03-01 00:00:00'), Timestamp('2012-04-01 00:00:00'), Timestamp('2012-04-01 00:00:00'), Timestamp('2012-04-01 00:00:00'), Timestamp('2012-04-01 00:00:00'), Timestamp('2012-05-01 00:00:00'), Timestamp('2012-05-01 00:00:00'), Timestamp('2012-05-01 00:00:00'), Timestamp('2012-05-01 00:00:00'), Timestamp('2012-06-01 00:00:00'), Timestamp('2012-06-01 00:00:00'), Timestamp('2012-06-01 00:00:00'), Timestamp('2012-06-01 00:00:00'), Timestamp('2012-07-01 00:00:00'), Timestamp('2012-07-01 00:00:00'), Timestamp('2012-07-01 00:00:00'), Timestamp('2012-07-01 00:00:00'), Timestamp('2012-08-01 00:00:00'), Timestamp('2012-08-01 00:00:00'), Timestamp('2012-08-01 00:00:00'), Timestamp('2012-08-01 00:00:00'), Timestamp('2012-09-01 00:00:00'), Timestamp('2012-09-01 00:00:00'), Timestamp('2012-09-01 00:00:00'), Timestamp('2012-09-01 00:00:00'), Timestamp('2012-10-01 00:00:00'), Timestamp('2012-10-01 00:00:00'), Timestamp('2012-10-01 00:00:00'), Timestamp('2012-10-01 00:00:00'), Timestamp('2012-11-01 00:00:00'), Timestamp('2012-11-01 00:00:00'), Timestamp('2012-11-01 00:00:00'), Timestamp('2012-11-01 00:00:00'), Timestamp('2012-12-01 00:00:00'), Timestamp('2012-12-01 00:00:00'), Timestamp('2012-12-01 00:00:00'), Timestamp('2012-12-01 00:00:00'), Timestamp('2013-01-01 00:00:00'), Timestamp('2013-01-01 00:00:00'), Timestamp('2013-01-01 00:00:00'), Timestamp('2013-01-01 00:00:00'), Timestamp('2013-01-01 00:00:00'), Timestamp('2013-02-01 00:00:00'), Timestamp('2013-02-01 00:00:00'), Timestamp('2013-02-01 00:00:00'), Timestamp('2013-02-01 00:00:00'), Timestamp('2013-03-01 00:00:00'), Timestamp('2013-03-01 00:00:00'), Timestamp('2013-03-01 00:00:00'), Timestamp('2013-03-01 00:00:00'), Timestamp('2013-04-01 00:00:00'), Timestamp('2013-04-01 00:00:00'), Timestamp('2013-04-01 00:00:00'), Timestamp('2013-04-01 00:00:00'), Timestamp('2013-05-01 00:00:00'), Timestamp('2013-05-01 00:00:00'), Timestamp('2013-05-01 00:00:00'), Timestamp('2013-05-01 00:00:00'), Timestamp('2013-06-01 00:00:00'), Timestamp('2013-06-01 00:00:00'), Timestamp('2013-06-01 00:00:00'), Timestamp('2013-06-01 00:00:00'), Timestamp('2013-07-01 00:00:00'), Timestamp('2013-07-01 00:00:00'), Timestamp('2013-07-01 00:00:00'), Timestamp('2013-07-01 00:00:00'), Timestamp('2013-08-01 00:00:00'), Timestamp('2013-08-01 00:00:00'), Timestamp('2013-08-01 00:00:00'), Timestamp('2013-08-01 00:00:00'), Timestamp('2013-09-01 00:00:00'), Timestamp('2013-09-01 00:00:00'), Timestamp('2013-09-01 00:00:00'), Timestamp('2013-09-01 00:00:00'), Timestamp('2013-10-01 00:00:00'), Timestamp('2013-10-01 00:00:00'), Timestamp('2013-10-01 00:00:00'), Timestamp('2013-10-01 00:00:00'), Timestamp('2013-11-01 00:00:00'), Timestamp('2013-11-01 00:00:00'), Timestamp('2013-11-01 00:00:00'), Timestamp('2013-11-01 00:00:00'), Timestamp('2013-12-01 00:00:00'), Timestamp('2013-12-01 00:00:00'), Timestamp('2013-12-01 00:00:00'), Timestamp('2013-12-01 00:00:00'), Timestamp('2014-01-01 00:00:00'), Timestamp('2014-01-01 00:00:00'), Timestamp('2014-01-01 00:00:00'), Timestamp('2014-01-01 00:00:00'), Timestamp('2014-01-01 00:00:00'), Timestamp('2014-02-01 00:00:00'), Timestamp('2014-02-01 00:00:00'), Timestamp('2014-02-01 00:00:00'), Timestamp('2014-02-01 00:00:00'), Timestamp('2014-03-01 00:00:00'), Timestamp('2014-03-01 00:00:00'), Timestamp('2014-03-01 00:00:00'), Timestamp('2014-03-01 00:00:00'), Timestamp('2014-04-01 00:00:00'), Timestamp('2014-04-01 00:00:00'), Timestamp('2014-04-01 00:00:00'), Timestamp('2014-04-01 00:00:00'), Timestamp('2014-05-01 00:00:00'), Timestamp('2014-05-01 00:00:00'), Timestamp('2014-05-01 00:00:00'), Timestamp('2014-05-01 00:00:00'), Timestamp('2014-06-01 00:00:00'), Timestamp('2014-06-01 00:00:00'), Timestamp('2014-06-01 00:00:00'), Timestamp('2014-06-01 00:00:00'), Timestamp('2014-07-01 00:00:00'), Timestamp('2014-07-01 00:00:00'), Timestamp('2014-07-01 00:00:00'), Timestamp('2014-07-01 00:00:00'), Timestamp('2014-08-01 00:00:00'), Timestamp('2014-08-01 00:00:00'), Timestamp('2014-08-01 00:00:00'), Timestamp('2014-08-01 00:00:00'), Timestamp('2014-09-01 00:00:00'), Timestamp('2014-09-01 00:00:00'), Timestamp('2014-09-01 00:00:00'), Timestamp('2014-09-01 00:00:00'), Timestamp('2014-10-01 00:00:00'), Timestamp('2014-10-01 00:00:00'), Timestamp('2014-10-01 00:00:00'), Timestamp('2014-10-01 00:00:00'), Timestamp('2014-11-01 00:00:00'), Timestamp('2014-11-01 00:00:00'), Timestamp('2014-11-01 00:00:00'), Timestamp('2014-11-01 00:00:00'), Timestamp('2014-12-01 00:00:00'), Timestamp('2014-12-01 00:00:00'), Timestamp('2014-12-01 00:00:00'), Timestamp('2014-12-01 00:00:00'), Timestamp('2015-01-01 00:00:00'), Timestamp('2015-01-01 00:00:00'), Timestamp('2015-01-01 00:00:00'), Timestamp('2015-01-01 00:00:00'), Timestamp('2015-01-01 00:00:00'), Timestamp('2015-02-01 00:00:00'), Timestamp('2015-02-01 00:00:00'), Timestamp('2015-02-01 00:00:00'), Timestamp('2015-02-01 00:00:00'), Timestamp('2015-03-01 00:00:00'), Timestamp('2015-03-01 00:00:00'), Timestamp('2015-03-01 00:00:00'), Timestamp('2015-03-01 00:00:00'), Timestamp('2015-04-01 00:00:00'), Timestamp('2015-04-01 00:00:00'), Timestamp('2015-04-01 00:00:00'), Timestamp('2015-04-01 00:00:00'), Timestamp('2015-05-01 00:00:00'), Timestamp('2015-05-01 00:00:00'), Timestamp('2015-05-01 00:00:00'), Timestamp('2015-05-01 00:00:00'), Timestamp('2015-06-01 00:00:00'), Timestamp('2015-06-01 00:00:00'), Timestamp('2015-06-01 00:00:00'), Timestamp('2015-06-01 00:00:00'), Timestamp('2015-07-01 00:00:00'), Timestamp('2015-07-01 00:00:00'), Timestamp('2015-07-01 00:00:00'), Timestamp('2015-07-01 00:00:00'), Timestamp('2015-08-01 00:00:00'), Timestamp('2015-08-01 00:00:00'), Timestamp('2015-08-01 00:00:00'), Timestamp('2015-08-01 00:00:00'), Timestamp('2015-09-01 00:00:00'), Timestamp('2015-09-01 00:00:00'), Timestamp('2015-09-01 00:00:00'), Timestamp('2015-09-01 00:00:00'), Timestamp('2015-10-01 00:00:00'), Timestamp('2015-10-01 00:00:00'), Timestamp('2015-10-01 00:00:00'), Timestamp('2015-10-01 00:00:00'), Timestamp('2015-11-01 00:00:00'), Timestamp('2015-11-01 00:00:00'), Timestamp('2015-11-01 00:00:00'), Timestamp('2015-11-01 00:00:00'), Timestamp('2015-12-01 00:00:00'), Timestamp('2015-12-01 00:00:00'), Timestamp('2015-12-01 00:00:00'), Timestamp('2015-12-01 00:00:00'), Timestamp('2016-01-01 00:00:00'), Timestamp('2016-01-01 00:00:00'), Timestamp('2016-01-01 00:00:00'), Timestamp('2016-01-01 00:00:00'), Timestamp('2016-01-01 00:00:00'), Timestamp('2016-02-01 00:00:00'), Timestamp('2016-02-01 00:00:00'), Timestamp('2016-02-01 00:00:00'), Timestamp('2016-02-01 00:00:00'), Timestamp('2016-03-01 00:00:00'), Timestamp('2016-03-01 00:00:00'), Timestamp('2016-03-01 00:00:00'), Timestamp('2016-03-01 00:00:00'), Timestamp('2016-04-01 00:00:00'), Timestamp('2016-04-01 00:00:00'), Timestamp('2016-04-01 00:00:00'), Timestamp('2016-04-01 00:00:00'), Timestamp('2016-05-01 00:00:00'), Timestamp('2016-05-01 00:00:00'), Timestamp('2016-05-01 00:00:00'), Timestamp('2016-05-01 00:00:00'), Timestamp('2016-06-01 00:00:00'), Timestamp('2016-06-01 00:00:00'), Timestamp('2016-06-01 00:00:00'), Timestamp('2016-06-01 00:00:00'), Timestamp('2016-07-01 00:00:00'), Timestamp('2016-07-01 00:00:00'), Timestamp('2016-07-01 00:00:00'), Timestamp('2016-07-01 00:00:00'), Timestamp('2016-08-01 00:00:00'), Timestamp('2016-08-01 00:00:00'), Timestamp('2016-08-01 00:00:00'), Timestamp('2016-08-01 00:00:00'), Timestamp('2016-09-01 00:00:00'), Timestamp('2016-09-01 00:00:00'), Timestamp('2016-09-01 00:00:00'), Timestamp('2016-09-01 00:00:00'), Timestamp('2016-10-01 00:00:00'), Timestamp('2016-10-01 00:00:00'), Timestamp('2016-10-01 00:00:00'), Timestamp('2016-10-01 00:00:00'), Timestamp('2016-11-01 00:00:00'), Timestamp('2016-11-01 00:00:00'), Timestamp('2016-11-01 00:00:00'), Timestamp('2016-11-01 00:00:00'), Timestamp('2016-12-01 00:00:00'), Timestamp('2016-12-01 00:00:00'), Timestamp('2016-12-01 00:00:00'), Timestamp('2016-12-01 00:00:00'), Timestamp('2017-01-01 00:00:00'), Timestamp('2017-01-01 00:00:00'), Timestamp('2017-01-01 00:00:00'), Timestamp('2017-01-01 00:00:00'), Timestamp('2017-01-01 00:00:00'), Timestamp('2017-02-01 00:00:00'), Timestamp('2017-02-01 00:00:00'), Timestamp('2017-02-01 00:00:00'), Timestamp('2017-02-01 00:00:00'), Timestamp('2017-03-01 00:00:00'), Timestamp('2017-03-01 00:00:00'), Timestamp('2017-03-01 00:00:00'), Timestamp('2017-03-01 00:00:00'), Timestamp('2017-04-01 00:00:00'), Timestamp('2017-04-01 00:00:00'), Timestamp('2017-04-01 00:00:00'), Timestamp('2017-04-01 00:00:00'), Timestamp('2017-05-01 00:00:00'), Timestamp('2017-05-01 00:00:00'), Timestamp('2017-05-01 00:00:00'), Timestamp('2017-05-01 00:00:00'), Timestamp('2017-06-01 00:00:00'), Timestamp('2017-06-01 00:00:00'), Timestamp('2017-06-01 00:00:00'), Timestamp('2017-06-01 00:00:00'), Timestamp('2017-07-01 00:00:00'), Timestamp('2017-07-01 00:00:00'), Timestamp('2017-07-01 00:00:00'), Timestamp('2017-07-01 00:00:00'), Timestamp('2017-08-01 00:00:00'), Timestamp('2017-08-01 00:00:00'), Timestamp('2017-08-01 00:00:00'), Timestamp('2017-08-01 00:00:00'), Timestamp('2017-09-01 00:00:00'), Timestamp('2017-09-01 00:00:00'), Timestamp('2017-09-01 00:00:00'), Timestamp('2017-09-01 00:00:00'), Timestamp('2017-10-01 00:00:00'), Timestamp('2017-10-01 00:00:00'), Timestamp('2017-10-01 00:00:00'), Timestamp('2017-10-01 00:00:00'), Timestamp('2017-11-01 00:00:00'), Timestamp('2017-11-01 00:00:00'), Timestamp('2017-11-01 00:00:00'), Timestamp('2017-11-01 00:00:00'), Timestamp('2017-12-01 00:00:00'), Timestamp('2017-12-01 00:00:00'), Timestamp('2017-12-01 00:00:00'), Timestamp('2017-12-01 00:00:00'), Timestamp('2018-01-01 00:00:00'), Timestamp('2018-01-01 00:00:00'), Timestamp('2018-01-01 00:00:00'), Timestamp('2018-01-01 00:00:00'), Timestamp('2018-01-01 00:00:00'), Timestamp('2018-02-01 00:00:00'), Timestamp('2018-02-01 00:00:00'), Timestamp('2018-02-01 00:00:00'), Timestamp('2018-02-01 00:00:00'), Timestamp('2018-03-01 00:00:00'), Timestamp('2018-03-01 00:00:00'), Timestamp('2018-03-01 00:00:00'), Timestamp('2018-03-01 00:00:00'), Timestamp('2018-04-01 00:00:00'), Timestamp('2018-04-01 00:00:00'), Timestamp('2018-04-01 00:00:00'), Timestamp('2018-04-01 00:00:00'), Timestamp('2018-05-01 00:00:00'), Timestamp('2018-05-01 00:00:00'), Timestamp('2018-05-01 00:00:00'), Timestamp('2018-05-01 00:00:00'), Timestamp('2018-06-01 00:00:00'), Timestamp('2018-06-01 00:00:00'), Timestamp('2018-06-01 00:00:00'), Timestamp('2018-06-01 00:00:00'), Timestamp('2018-07-01 00:00:00'), Timestamp('2018-07-01 00:00:00'), Timestamp('2018-07-01 00:00:00'), Timestamp('2018-07-01 00:00:00'), Timestamp('2018-08-01 00:00:00'), Timestamp('2018-08-01 00:00:00'), Timestamp('2018-08-01 00:00:00'), Timestamp('2018-08-01 00:00:00'), Timestamp('2018-09-01 00:00:00'), Timestamp('2018-09-01 00:00:00'), Timestamp('2018-09-01 00:00:00'), Timestamp('2018-09-01 00:00:00'), Timestamp('2018-10-01 00:00:00'), Timestamp('2018-10-01 00:00:00'), Timestamp('2018-10-01 00:00:00'), Timestamp('2018-10-01 00:00:00'), Timestamp('2018-11-01 00:00:00'), Timestamp('2018-11-01 00:00:00'), Timestamp('2018-11-01 00:00:00'), Timestamp('2018-11-01 00:00:00'), Timestamp('2018-12-01 00:00:00'), Timestamp('2018-12-01 00:00:00'), Timestamp('2018-12-01 00:00:00'), Timestamp('2018-12-01 00:00:00'), Timestamp('2019-01-01 00:00:00'), Timestamp('2019-01-01 00:00:00'), Timestamp('2019-01-01 00:00:00'), Timestamp('2019-01-01 00:00:00'), Timestamp('2019-01-01 00:00:00'), Timestamp('2019-02-01 00:00:00'), Timestamp('2019-02-01 00:00:00'), Timestamp('2019-02-01 00:00:00'), Timestamp('2019-02-01 00:00:00'), Timestamp('2019-03-01 00:00:00'), Timestamp('2019-03-01 00:00:00'), Timestamp('2019-03-01 00:00:00'), Timestamp('2019-03-01 00:00:00'), Timestamp('2019-04-01 00:00:00'), Timestamp('2019-04-01 00:00:00'), Timestamp('2019-04-01 00:00:00'), Timestamp('2019-04-01 00:00:00'), Timestamp('2019-05-01 00:00:00'), Timestamp('2019-05-01 00:00:00'), Timestamp('2019-05-01 00:00:00'), Timestamp('2019-05-01 00:00:00'), Timestamp('2019-06-01 00:00:00'), Timestamp('2019-06-01 00:00:00'), Timestamp('2019-06-01 00:00:00'), Timestamp('2019-06-01 00:00:00'), Timestamp('2019-07-01 00:00:00'), Timestamp('2019-07-01 00:00:00'), Timestamp('2019-07-01 00:00:00'), Timestamp('2019-07-01 00:00:00'), Timestamp('2019-08-01 00:00:00'), Timestamp('2019-08-01 00:00:00'), Timestamp('2019-08-01 00:00:00'), Timestamp('2019-08-01 00:00:00'), Timestamp('2019-09-01 00:00:00'), Timestamp('2019-09-01 00:00:00'), Timestamp('2019-09-01 00:00:00'), Timestamp('2019-09-01 00:00:00'), Timestamp('2019-10-01 00:00:00'), Timestamp('2019-10-01 00:00:00'), Timestamp('2019-10-01 00:00:00'), Timestamp('2019-10-01 00:00:00'), Timestamp('2019-11-01 00:00:00'), Timestamp('2019-11-01 00:00:00'), Timestamp('2019-11-01 00:00:00'), Timestamp('2019-11-01 00:00:00'), Timestamp('2019-12-01 00:00:00'), Timestamp('2019-12-01 00:00:00'), Timestamp('2019-12-01 00:00:00'), Timestamp('2019-12-01 00:00:00'), Timestamp('2020-01-01 00:00:00'), Timestamp('2020-01-01 00:00:00'), Timestamp('2020-01-01 00:00:00'), Timestamp('2020-01-01 00:00:00'), Timestamp('2020-01-01 00:00:00'), Timestamp('2020-02-01 00:00:00'), Timestamp('2020-02-01 00:00:00'), Timestamp('2020-02-01 00:00:00'), Timestamp('2020-02-01 00:00:00'), Timestamp('2020-03-01 00:00:00'), Timestamp('2020-03-01 00:00:00'), Timestamp('2020-03-01 00:00:00'), Timestamp('2020-03-01 00:00:00'), Timestamp('2020-04-01 00:00:00'), Timestamp('2020-04-01 00:00:00'), Timestamp('2020-04-01 00:00:00'), Timestamp('2020-04-01 00:00:00'), Timestamp('2020-05-01 00:00:00'), Timestamp('2020-05-01 00:00:00'), Timestamp('2020-05-01 00:00:00'), Timestamp('2020-05-01 00:00:00'), Timestamp('2020-06-01 00:00:00'), Timestamp('2020-06-01 00:00:00'), Timestamp('2020-06-01 00:00:00'), Timestamp('2020-06-01 00:00:00'), Timestamp('2020-07-01 00:00:00'), Timestamp('2020-07-01 00:00:00'), Timestamp('2020-07-01 00:00:00'), Timestamp('2020-07-01 00:00:00'), Timestamp('2020-08-01 00:00:00'), Timestamp('2020-08-01 00:00:00'), Timestamp('2020-08-01 00:00:00'), Timestamp('2020-08-01 00:00:00'), Timestamp('2020-09-01 00:00:00'), Timestamp('2020-09-01 00:00:00'), Timestamp('2020-09-01 00:00:00'), Timestamp('2020-09-01 00:00:00'), Timestamp('2020-10-01 00:00:00'), Timestamp('2020-10-01 00:00:00'), Timestamp('2020-10-01 00:00:00'), Timestamp('2020-10-01 00:00:00'), Timestamp('2020-11-01 00:00:00'), Timestamp('2020-11-01 00:00:00'), Timestamp('2020-11-01 00:00:00'), Timestamp('2020-11-01 00:00:00'), Timestamp('2020-12-01 00:00:00'), Timestamp('2020-12-01 00:00:00'), Timestamp('2020-12-01 00:00:00'), Timestamp('2020-12-01 00:00:00'), Timestamp('2021-01-01 00:00:00'), Timestamp('2021-01-01 00:00:00'), Timestamp('2021-01-01 00:00:00'), Timestamp('2021-01-01 00:00:00'), Timestamp('2021-01-01 00:00:00'), Timestamp('2021-02-01 00:00:00'), Timestamp('2021-02-01 00:00:00'), Timestamp('2021-02-01 00:00:00'), Timestamp('2021-02-01 00:00:00'), Timestamp('2021-03-01 00:00:00'), Timestamp('2021-03-01 00:00:00'), Timestamp('2021-03-01 00:00:00'), Timestamp('2021-03-01 00:00:00'), Timestamp('2021-04-01 00:00:00'), Timestamp('2021-04-01 00:00:00'), Timestamp('2021-04-01 00:00:00'), Timestamp('2021-04-01 00:00:00'), Timestamp('2021-05-01 00:00:00'), Timestamp('2021-05-01 00:00:00'), Timestamp('2021-05-01 00:00:00'), Timestamp('2021-05-01 00:00:00'), Timestamp('2021-06-01 00:00:00'), Timestamp('2021-06-01 00:00:00'), Timestamp('2021-06-01 00:00:00'), Timestamp('2021-06-01 00:00:00'), Timestamp('2021-07-01 00:00:00'), Timestamp('2021-07-01 00:00:00'), Timestamp('2021-07-01 00:00:00'), Timestamp('2021-07-01 00:00:00'), Timestamp('2021-08-01 00:00:00'), Timestamp('2021-08-01 00:00:00'), Timestamp('2021-08-01 00:00:00'), Timestamp('2021-08-01 00:00:00'), Timestamp('2021-09-01 00:00:00'), Timestamp('2021-09-01 00:00:00'), Timestamp('2021-09-01 00:00:00'), Timestamp('2021-09-01 00:00:00'), Timestamp('2021-10-01 00:00:00'), Timestamp('2021-10-01 00:00:00'), Timestamp('2021-10-01 00:00:00'), Timestamp('2021-10-01 00:00:00'), Timestamp('2021-11-01 00:00:00'), Timestamp('2021-11-01 00:00:00'), Timestamp('2021-11-01 00:00:00'), Timestamp('2021-11-01 00:00:00'), Timestamp('2021-12-01 00:00:00'), Timestamp('2021-12-01 00:00:00'), Timestamp('2021-12-01 00:00:00'), Timestamp('2021-12-01 00:00:00'), Timestamp('2022-01-01 00:00:00'), Timestamp('2022-01-01 00:00:00'), Timestamp('2022-01-01 00:00:00'), Timestamp('2022-01-01 00:00:00'), Timestamp('2022-01-01 00:00:00'), Timestamp('2022-02-01 00:00:00'), Timestamp('2022-02-01 00:00:00'), Timestamp('2022-02-01 00:00:00'), Timestamp('2022-02-01 00:00:00'), Timestamp('2022-03-01 00:00:00'), Timestamp('2022-03-01 00:00:00'), Timestamp('2022-03-01 00:00:00'), Timestamp('2022-03-01 00:00:00'), Timestamp('2022-04-01 00:00:00'), Timestamp('2022-04-01 00:00:00'), Timestamp('2022-04-01 00:00:00'), Timestamp('2022-04-01 00:00:00'), Timestamp('2022-05-01 00:00:00'), Timestamp('2022-05-01 00:00:00'), Timestamp('2022-05-01 00:00:00'), Timestamp('2022-05-01 00:00:00'), Timestamp('2022-06-01 00:00:00'), Timestamp('2022-06-01 00:00:00'), Timestamp('2022-06-01 00:00:00'), Timestamp('2022-06-01 00:00:00'), Timestamp('2022-07-01 00:00:00'), Timestamp('2022-07-01 00:00:00'), Timestamp('2022-07-01 00:00:00'), Timestamp('2022-07-01 00:00:00'), Timestamp('2022-08-01 00:00:00'), Timestamp('2022-08-01 00:00:00'), Timestamp('2022-08-01 00:00:00'), Timestamp('2022-08-01 00:00:00'), Timestamp('2022-09-01 00:00:00'), Timestamp('2022-09-01 00:00:00'), Timestamp('2022-09-01 00:00:00'), Timestamp('2022-09-01 00:00:00'), Timestamp('2022-10-01 00:00:00'), Timestamp('2022-10-01 00:00:00'), Timestamp('2022-10-01 00:00:00'), Timestamp('2022-10-01 00:00:00'), Timestamp('2022-11-01 00:00:00'), Timestamp('2022-11-01 00:00:00'), Timestamp('2022-11-01 00:00:00'), Timestamp('2022-11-01 00:00:00'), Timestamp('2022-12-01 00:00:00'), Timestamp('2022-12-01 00:00:00'), Timestamp('2022-12-01 00:00:00'), Timestamp('2022-12-01 00:00:00'), Timestamp('2023-01-01 00:00:00'), Timestamp('2023-01-01 00:00:00'), Timestamp('2023-01-01 00:00:00'), Timestamp('2023-01-01 00:00:00'), Timestamp('2023-01-01 00:00:00'), Timestamp('2023-02-01 00:00:00'), Timestamp('2023-02-01 00:00:00'), Timestamp('2023-02-01 00:00:00'), Timestamp('2023-02-01 00:00:00'), Timestamp('2023-03-01 00:00:00'), Timestamp('2023-03-01 00:00:00'), Timestamp('2023-03-01 00:00:00'), Timestamp('2023-03-01 00:00:00'), Timestamp('2023-04-01 00:00:00'), Timestamp('2023-04-01 00:00:00'), Timestamp('2023-04-01 00:00:00'), Timestamp('2023-04-01 00:00:00'), Timestamp('2023-05-01 00:00:00'), Timestamp('2023-05-01 00:00:00'), Timestamp('2023-05-01 00:00:00'), Timestamp('2023-05-01 00:00:00'), Timestamp('2023-06-01 00:00:00'), Timestamp('2023-06-01 00:00:00'), Timestamp('2023-06-01 00:00:00'), Timestamp('2023-06-01 00:00:00'), Timestamp('2023-07-01 00:00:00'), Timestamp('2023-07-01 00:00:00'), Timestamp('2023-07-01 00:00:00'), Timestamp('2023-07-01 00:00:00'), Timestamp('2023-08-01 00:00:00'), Timestamp('2023-08-01 00:00:00'), Timestamp('2023-08-01 00:00:00'), Timestamp('2023-08-01 00:00:00'), Timestamp('2023-09-01 00:00:00'), Timestamp('2023-09-01 00:00:00'), Timestamp('2023-09-01 00:00:00'), Timestamp('2023-09-01 00:00:00'), Timestamp('2023-10-01 00:00:00'), Timestamp('2023-10-01 00:00:00'), Timestamp('2023-10-01 00:00:00'), Timestamp('2023-10-01 00:00:00'), Timestamp('2023-11-01 00:00:00'), Timestamp('2023-11-01 00:00:00'), Timestamp('2023-11-01 00:00:00'), Timestamp('2023-11-01 00:00:00'), Timestamp('2023-12-01 00:00:00'), Timestamp('2023-12-01 00:00:00'), Timestamp('2023-12-01 00:00:00'), Timestamp('2023-12-01 00:00:00'), Timestamp('2024-01-01 00:00:00'), Timestamp('2024-01-01 00:00:00'), Timestamp('2024-01-01 00:00:00'), Timestamp('2024-01-01 00:00:00'), Timestamp('2024-01-01 00:00:00'), Timestamp('2024-02-01 00:00:00'), Timestamp('2024-02-01 00:00:00'), Timestamp('2024-02-01 00:00:00'), Timestamp('2024-02-01 00:00:00'), Timestamp('2024-03-01 00:00:00'), Timestamp('2024-03-01 00:00:00'), Timestamp('2024-03-01 00:00:00'), Timestamp('2024-03-01 00:00:00'), Timestamp('2024-04-01 00:00:00'), Timestamp('2024-04-01 00:00:00'), Timestamp('2024-04-01 00:00:00'), Timestamp('2024-04-01 00:00:00'), Timestamp('2024-05-01 00:00:00'), Timestamp('2024-05-01 00:00:00'), Timestamp('2024-05-01 00:00:00'), Timestamp('2024-05-01 00:00:00'), Timestamp('2024-06-01 00:00:00'), Timestamp('2024-06-01 00:00:00'), Timestamp('2024-06-01 00:00:00'), Timestamp('2024-06-01 00:00:00'), Timestamp('2024-07-01 00:00:00'), Timestamp('2024-07-01 00:00:00'), Timestamp('2024-07-01 00:00:00'), Timestamp('2024-07-01 00:00:00'), Timestamp('2024-08-01 00:00:00'), Timestamp('2024-08-01 00:00:00'), Timestamp('2024-08-01 00:00:00'), Timestamp('2024-08-01 00:00:00'), Timestamp('2024-09-01 00:00:00'), Timestamp('2024-09-01 00:00:00'), Timestamp('2024-09-01 00:00:00'), Timestamp('2024-09-01 00:00:00'), Timestamp('2024-10-01 00:00:00'), Timestamp('2024-10-01 00:00:00'), Timestamp('2024-10-01 00:00:00'), Timestamp('2024-10-01 00:00:00'), Timestamp('2024-11-01 00:00:00'), Timestamp('2024-11-01 00:00:00'), Timestamp('2024-11-01 00:00:00'), Timestamp('2024-11-01 00:00:00'), Timestamp('2024-12-01 00:00:00'), Timestamp('2024-12-01 00:00:00'), Timestamp('2024-12-01 00:00:00'), Timestamp('2024-12-01 00:00:00'), Timestamp('2024-12-01 00:00:00'), Timestamp('2025-01-01 00:00:00'), Timestamp('2025-01-01 00:00:00'), Timestamp('2025-01-01 00:00:00'), Timestamp('2025-01-01 00:00:00'), Timestamp('2025-01-01 00:00:00'), Timestamp('2025-02-01 00:00:00'), Timestamp('2025-02-01 00:00:00'), Timestamp('2025-02-01 00:00:00'), Timestamp('2025-02-01 00:00:00'), Timestamp('2025-02-01 00:00:00'), Timestamp('2025-03-01 00:00:00'), Timestamp('2025-03-01 00:00:00'), Timestamp('2025-03-01 00:00:00'), Timestamp('2025-03-01 00:00:00'), Timestamp('2025-03-01 00:00:00'), Timestamp('2025-04-01 00:00:00'), Timestamp('2025-04-01 00:00:00'), Timestamp('2025-04-01 00:00:00'), Timestamp('2025-04-01 00:00:00'), Timestamp('2025-04-01 00:00:00'), Timestamp('2025-05-01 00:00:00')]\n",
      "DatetimeIndex(['2006-03-01', '2006-03-01', '2006-03-01', '2006-03-01',\n",
      "               '2006-04-01'],\n",
      "              dtype='datetime64[ns]', name='earnings_date', freq=None)\n",
      "DatetimeIndex(['2025-04-01', '2025-04-01', '2025-04-01', '2025-04-01',\n",
      "               '2025-05-01'],\n",
      "              dtype='datetime64[ns]', name='earnings_date', freq=None)\n"
     ]
    }
   ],
   "source": [
    "labels = list(df.index)\n",
    "print(\"All labels:\", labels)\n",
    "\n",
    "# Or for a quick peek:\n",
    "print(df.index[:5])   # first 5\n",
    "print(df.index[-5:])  # last 5\n"
   ]
  },
  {
   "cell_type": "code",
   "execution_count": 22,
   "id": "0e896ea5",
   "metadata": {},
   "outputs": [
    {
     "name": "stdout",
     "output_type": "stream",
     "text": [
      "            overhead_rate_pct\n",
      "date                         \n",
      "2006-03-01             0.2248\n",
      "2006-04-01             0.1883\n",
      "2006-05-01             0.1765\n",
      "2006-06-01             0.2121\n",
      "2006-07-01             0.1494\n"
     ]
    }
   ],
   "source": [
    "import pandas as pd\n",
    "import numpy as np\n",
    "\n",
    "# 1. Seed for reproducibility\n",
    "np.random.seed(42)\n",
    "\n",
    "# 2. Determine your source of dates\n",
    "if 'date' in df.columns:\n",
    "    dates = pd.to_datetime(df['date'])\n",
    "elif isinstance(df.index, pd.DatetimeIndex):\n",
    "    dates = df.index.to_series().reset_index(drop=True)\n",
    "else:\n",
    "    raise KeyError(\"DataFrame must have a 'date' column or a DatetimeIndex\")\n",
    "\n",
    "# 3. Simulate one rate per date\n",
    "rates = np.random.normal(loc=0.20, scale=0.05, size=len(dates))\n",
    "rates = np.clip(rates, 0.10, 0.30)\n",
    "\n",
    "# 4. Assemble into a clean, time‐indexed DataFrame\n",
    "overhead_df = (\n",
    "    pd.DataFrame({\n",
    "        'date': dates,\n",
    "        'overhead_rate_pct': np.round(rates, 4)\n",
    "    })\n",
    "    .drop_duplicates('date')     # just in case\n",
    "    .set_index('date')\n",
    "    .sort_index()\n",
    ")\n",
    "\n",
    "# 5. Preview\n",
    "print(overhead_df.head())\n",
    "\n"
   ]
  },
  {
   "cell_type": "code",
   "execution_count": 24,
   "id": "bd700526",
   "metadata": {},
   "outputs": [
    {
     "name": "stdout",
     "output_type": "stream",
     "text": [
      "              year_month  avg_hourly_earnings price_date  overhead_rate_pct  \\\n",
      "earnings_date                                                                 \n",
      "2006-03-01    2006-03-01                20.71 2006-03-01             0.2248   \n",
      "2006-03-01    2006-03-01                20.71 2006-03-01             0.2248   \n",
      "2006-03-01    2006-03-01                20.71 2006-03-01             0.2248   \n",
      "2006-03-01    2006-03-01                20.71 2006-03-01             0.2248   \n",
      "2006-04-01    2006-04-01                20.83 2006-04-01             0.1883   \n",
      "\n",
      "                                  commodity         price  \n",
      "earnings_date                                              \n",
      "2006-03-01                         Aluminum   2432.478261  \n",
      "2006-03-01                           Copper   5123.673913  \n",
      "2006-03-01                           Nickel  14925.478261  \n",
      "2006-03-01     Natural Gas (Henry Hub Spot)      6.890000  \n",
      "2006-04-01                         Aluminum   2623.858333  \n"
     ]
    }
   ],
   "source": [
    "import pandas as pd\n",
    "\n",
    "# 1. Identify which date column lives in df\n",
    "if 'earnings_date' in df.columns:\n",
    "    date_col = 'earnings_date'\n",
    "elif 'price_date' in df.columns:\n",
    "    date_col = 'price_date'\n",
    "elif 'date' in df.columns:\n",
    "    date_col = 'date'\n",
    "else:\n",
    "    raise KeyError(\n",
    "        \"df must have one of these date columns: \"\n",
    "        \"['earnings_date','price_date','date']\"\n",
    "    )\n",
    "\n",
    "# 2. Normalize df’s date column to datetime\n",
    "df[date_col] = pd.to_datetime(df[date_col])\n",
    "\n",
    "# 3. Ensure overhead_df is indexed by a matching DatetimeIndex\n",
    "if 'date' in overhead_df.columns:\n",
    "    overhead_df = (\n",
    "        overhead_df\n",
    "        .assign(date=pd.to_datetime(overhead_df['date']))\n",
    "        .drop_duplicates('date')\n",
    "        .set_index('date')\n",
    "    )\n",
    "\n",
    "# 4. Left-merge overhead rates onto df\n",
    "df_combined = df.merge(\n",
    "    overhead_df,\n",
    "    left_on=date_col,\n",
    "    right_index=True,\n",
    "    how='left'\n",
    ")\n",
    "\n",
    "# 5. (Optional) Tidy up column order\n",
    "#    e.g. insert 'overhead_rate_pct' immediately after your date_col:\n",
    "cols = df_combined.columns.tolist()\n",
    "cols.insert(\n",
    "    cols.index(date_col) + 1,\n",
    "    cols.pop(cols.index('overhead_rate_pct'))\n",
    ")\n",
    "df_combined = df_combined[cols]\n",
    "\n",
    "print(df_combined.head())\n"
   ]
  },
  {
   "cell_type": "code",
   "execution_count": 25,
   "id": "b3318c64",
   "metadata": {},
   "outputs": [],
   "source": [
    "# Export to a single-sheet Excel file\n",
    "df_combined.to_excel('output.xlsx', index=False)\n"
   ]
  },
  {
   "cell_type": "code",
   "execution_count": 26,
   "id": "0480392e",
   "metadata": {},
   "outputs": [],
   "source": [
    "with pd.ExcelWriter('dashboard_data.xlsx', engine='openpyxl') as writer:\n",
    "    df_long.to_excel(writer, sheet_name='LongForm', index=False)\n",
    "    df_wide.to_excel(writer, sheet_name='WideForm', index=False)\n",
    "    df_combined.to_excel(writer, sheet_name='Combined', index=False)"
   ]
  }
 ],
 "metadata": {
  "kernelspec": {
   "display_name": "Python 3",
   "language": "python",
   "name": "python3"
  },
  "language_info": {
   "codemirror_mode": {
    "name": "ipython",
    "version": 3
   },
   "file_extension": ".py",
   "mimetype": "text/x-python",
   "name": "python",
   "nbconvert_exporter": "python",
   "pygments_lexer": "ipython3",
   "version": "3.9.6"
  }
 },
 "nbformat": 4,
 "nbformat_minor": 5
}
